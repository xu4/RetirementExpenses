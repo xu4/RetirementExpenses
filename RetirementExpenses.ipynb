{
 "cells": [
  {
   "cell_type": "code",
   "execution_count": 2,
   "metadata": {},
   "outputs": [],
   "source": [
    "import numpy as np\n",
    "import pandas as pd\n",
    "from sklearn import linear_model\n",
    "from sklearn import linear_model"
   ]
  },
  {
   "cell_type": "code",
   "execution_count": 3,
   "metadata": {},
   "outputs": [],
   "source": [
    "memi171x_df = pd.read_csv(\"dataset/memi171x.csv\", header=0)\n",
    "memi172_df = pd.read_csv(\"dataset/memi172.csv\", header=0)\n",
    "memi173_df = pd.read_csv(\"dataset/memi173.csv\", header=0)\n",
    "memi174_df = pd.read_csv(\"dataset/memi174.csv\", header=0)\n"
   ]
  },
  {
   "cell_type": "code",
   "execution_count": 4,
   "metadata": {},
   "outputs": [],
   "source": [
    "fmli171x_df = pd.read_csv(\"dataset/fmli171x.csv\", header=0)\n",
    "fmli172_df = pd.read_csv(\"dataset/fmli172.csv\", header=0)\n",
    "fmli173_df = pd.read_csv(\"dataset/fmli173.csv\", header=0)\n",
    "fmli174_df = pd.read_csv(\"dataset/fmli174.csv\", header=0)"
   ]
  },
  {
   "cell_type": "code",
   "execution_count": 5,
   "metadata": {},
   "outputs": [
    {
     "name": "stdout",
     "output_type": "stream",
     "text": [
      "df_1_2: (0, 4)\n",
      "df_2_3: (0, 4)\n",
      "df_3_4: (0, 4)\n"
     ]
    }
   ],
   "source": [
    "df_171x = memi171x_df.groupby(['NEWID']).count()['AGE'].reset_index()\n",
    "df_172 = memi172_df.groupby(['NEWID']).count()['AGE'].reset_index()\n",
    "df_173 = memi173_df.groupby(['NEWID']).count()['AGE'].reset_index()\n",
    "df_174 = memi174_df.groupby(['NEWID']).count()['AGE'].reset_index()\n",
    "\n",
    "df_1_2 = df_171x.join(df_172, how='inner', on='NEWID', rsuffix='_other')\n",
    "print(\"df_1_2:\",df_1_2.shape)\n",
    "\n",
    "df_2_3 = df_172.join(df_173, how='inner', on='NEWID', rsuffix='_other')\n",
    "print(\"df_2_3:\",df_2_3.shape)\n",
    "\n",
    "df_3_4 = df_173.join(df_174, how='inner', on='NEWID', rsuffix='_other')\n",
    "print(\"df_3_4:\",df_3_4.shape)"
   ]
  },
  {
   "cell_type": "code",
   "execution_count": 6,
   "metadata": {},
   "outputs": [
    {
     "name": "stdout",
     "output_type": "stream",
     "text": [
      "df_171x_mem_fml: (0, 4)\n"
     ]
    }
   ],
   "source": [
    "df_171x_mem = memi171x_df.groupby(['NEWID']).count()['AGE'].reset_index()\n",
    "df_171x_fml = fmli171x_df.groupby(['NEWID']).count()['AGE2'].reset_index()\n",
    "\n",
    "df_171x_mem_fml = df_171x_mem.join(df_171x_fml, how='inner', on='NEWID', rsuffix='_other')\n",
    "print(\"df_171x_mem_fml:\", df_171x_mem_fml.shape)"
   ]
  },
  {
   "cell_type": "code",
   "execution_count": 7,
   "metadata": {},
   "outputs": [
    {
     "name": "stdout",
     "output_type": "stream",
     "text": [
      "df_172_mem_fml: (0, 4)\n"
     ]
    }
   ],
   "source": [
    "df_172_mem = memi172_df.groupby(['NEWID']).count()['AGE'].reset_index()\n",
    "df_172_fml = fmli172_df.groupby(['NEWID']).count()['AGE2'].reset_index()\n",
    "\n",
    "df_172_mem_fml = df_172_mem.join(df_172_fml, how='inner', on='NEWID', rsuffix='_other')\n",
    "print(\"df_172_mem_fml:\", df_172_mem_fml.shape)"
   ]
  },
  {
   "cell_type": "code",
   "execution_count": 8,
   "metadata": {},
   "outputs": [
    {
     "name": "stdout",
     "output_type": "stream",
     "text": [
      "6208\n"
     ]
    }
   ],
   "source": [
    "newid_list = set(memi171x_df['NEWID'].unique())\n",
    "print(len(newid_list))"
   ]
  },
  {
   "cell_type": "code",
   "execution_count": 9,
   "metadata": {},
   "outputs": [
    {
     "name": "stdout",
     "output_type": "stream",
     "text": [
      "24479\n"
     ]
    }
   ],
   "source": [
    "mem_list = list(memi171x_df['NEWID'].unique())\\\n",
    "           +list(memi172_df['NEWID'].unique())\\\n",
    "           +list(memi173_df['NEWID'].unique())\\\n",
    "           +list(memi174_df['NEWID'].unique())\n",
    "print(len(mem_list))        "
   ]
  },
  {
   "cell_type": "code",
   "execution_count": 10,
   "metadata": {},
   "outputs": [
    {
     "name": "stdout",
     "output_type": "stream",
     "text": [
      "24479\n"
     ]
    }
   ],
   "source": [
    "fml_list = list(fmli171x_df['NEWID'].unique())\\\n",
    "           +list(fmli172_df['NEWID'].unique())\\\n",
    "           +list(fmli173_df['NEWID'].unique())\\\n",
    "           +list(fmli174_df['NEWID'].unique())\n",
    "print(len(fml_list))  "
   ]
  },
  {
   "cell_type": "code",
   "execution_count": 11,
   "metadata": {},
   "outputs": [
    {
     "name": "stdout",
     "output_type": "stream",
     "text": [
      "24479\n"
     ]
    }
   ],
   "source": [
    "join_list = set(mem_list) & set(fml_list)\n",
    "print(len(join_list))"
   ]
  },
  {
   "cell_type": "code",
   "execution_count": 12,
   "metadata": {},
   "outputs": [
    {
     "data": {
      "text/plain": [
       "{'TRANAMTX', 'TRANDAYX', 'TRANPD', 'TRANPD_', 'TRAN_AYX', 'TRAN_MTX'}"
      ]
     },
     "execution_count": 12,
     "metadata": {},
     "output_type": "execute_result"
    }
   ],
   "source": [
    "#get the columns not in memi171x_df \n",
    "set(memi172_df.columns) - set(memi171x_df.columns) "
   ]
  },
  {
   "cell_type": "code",
   "execution_count": 13,
   "metadata": {},
   "outputs": [
    {
     "name": "stdout",
     "output_type": "stream",
     "text": [
      "set()\n",
      "set()\n",
      "set()\n"
     ]
    }
   ],
   "source": [
    "#remove the 6 columns from all member dataframe\n",
    "memi172_df = memi172_df.drop(columns=['TRANAMTX', 'TRANDAYX', 'TRANPD', 'TRANPD_', 'TRAN_AYX', 'TRAN_MTX'])\n",
    "memi173_df = memi173_df.drop(columns=['TRANAMTX', 'TRANDAYX', 'TRANPD', 'TRANPD_', 'TRAN_AYX', 'TRAN_MTX'])\n",
    "memi174_df = memi174_df.drop(columns=['TRANAMTX', 'TRANDAYX', 'TRANPD', 'TRANPD_', 'TRAN_AYX', 'TRAN_MTX'])\n",
    "print(set(memi172_df.columns) - set(memi171x_df.columns))\n",
    "print(set(memi173_df.columns) - set(memi171x_df.columns))\n",
    "print(set(memi174_df.columns) - set(memi171x_df.columns))\n",
    "\n",
    "\n"
   ]
  },
  {
   "cell_type": "code",
   "execution_count": 14,
   "metadata": {},
   "outputs": [
    {
     "name": "stdout",
     "output_type": "stream",
     "text": [
      "(59474, 181)\n"
     ]
    }
   ],
   "source": [
    "memi_full= pd.concat([memi171x_df, memi172_df, memi173_df, memi174_df])\n",
    "print(memi_full.shape)"
   ]
  },
  {
   "cell_type": "code",
   "execution_count": 15,
   "metadata": {},
   "outputs": [
    {
     "data": {
      "text/plain": [
       "(18885, 181)"
      ]
     },
     "execution_count": 15,
     "metadata": {},
     "output_type": "execute_result"
    }
   ],
   "source": [
    "#all SALARYX_\n",
    "memi_full[(memi_full['SALARYX_']=='D')].shape"
   ]
  },
  {
   "cell_type": "code",
   "execution_count": 16,
   "metadata": {},
   "outputs": [
    {
     "name": "stdout",
     "output_type": "stream",
     "text": [
      "Empty DataFrame\n",
      "Columns: [SALARYX_, SALARYX]\n",
      "Index: []\n",
      "Empty DataFrame\n",
      "Columns: [SEMP_RMX, SEMPFRMX]\n",
      "Index: []\n",
      "Empty DataFrame\n",
      "Columns: [SOCRRX_, SOCRRX]\n",
      "Index: []\n",
      "Empty DataFrame\n",
      "Columns: [SSIX_, SSIX]\n",
      "Index: []\n"
     ]
    }
   ],
   "source": [
    "#only \"D\" is valid 'SALARYX_\". set invalid 'SALARYX' to 0, \n",
    "memi_full.loc[memi_full['SALARYX_'] != \"D\", \"SALARYX\"] = 0\n",
    "#validate the assignment\n",
    "print(memi_full[(memi_full['SALARYX_']!='D') & (memi_full['SALARYX'])>0][['SALARYX_', 'SALARYX']])\n",
    "\n",
    "#only \"D\" is valid 'SEMP_RMX\". set invalid 'SEMPFRMX' to 0, \n",
    "memi_full.loc[memi_full['SEMP_RMX'] != \"D\", \"SEMPFRMX\"] = 0\n",
    "#validate the assignment\n",
    "print(memi_full[(memi_full['SEMP_RMX']!='D') & (memi_full['SEMPFRMX'])>0][['SEMP_RMX', 'SEMPFRMX']])\n",
    "\n",
    "\n",
    "#only \"D\" is valid 'SOCRRX_\". set invalid 'SOCRRX' to 0, \n",
    "memi_full.loc[memi_full['SOCRRX_'] != \"D\", \"SOCRRX\"] = 0\n",
    "#validate the assignment\n",
    "print(memi_full[(memi_full['SOCRRX_']!='D') & (memi_full['SOCRRX'])>0][['SOCRRX_', 'SOCRRX']])\n",
    "\n",
    "#only \"D\" is valid 'SSIX_\". set invalid 'SSIX' to 0, \n",
    "memi_full.loc[memi_full['SSIX_'] != \"D\", \"SSIX\"] = 0\n",
    "#validate the assignment\n",
    "print(memi_full[(memi_full['SSIX_']!='D') & (memi_full['SSIX'])>0][['SSIX_', 'SSIX']])"
   ]
  },
  {
   "cell_type": "code",
   "execution_count": 89,
   "metadata": {},
   "outputs": [],
   "source": [
    "# each NEWID, aggregated 4 income sources.\n",
    "memi_sum = memi_full.groupby(\"NEWID\").agg({'SALARYX':'sum', 'SEMPFRMX':'sum',  'SOCRRX':'sum', 'SSIX':'sum'} )"
   ]
  },
  {
   "cell_type": "code",
   "execution_count": 18,
   "metadata": {},
   "outputs": [
    {
     "name": "stdout",
     "output_type": "stream",
     "text": [
      "(6208, 808)\n",
      "(6177, 828)\n",
      "(6090, 828)\n",
      "(6004, 828)\n"
     ]
    }
   ],
   "source": [
    "print(fmli171x_df.shape)\n",
    "print(fmli172_df.shape)\n",
    "print(fmli173_df.shape)\n",
    "print(fmli174_df.shape)"
   ]
  },
  {
   "cell_type": "code",
   "execution_count": 19,
   "metadata": {},
   "outputs": [
    {
     "name": "stdout",
     "output_type": "stream",
     "text": [
      "['OTHLNYR_', 'WHLFYR', 'CREDYR', 'WHLFYR_', 'LIQUID_', 'IRAYR', 'IRAYR_', 'FSTAXOWE', 'OTHLNYR', 'CREDYR_', 'STOCKYR_', 'LIQUDYR_', 'SOLARPNL', 'IRA', 'STOCKYR', 'LIQUID', 'OTHSTYR', 'FFTAXOWE', 'STDNTYR_', 'STDNTYR', 'LIQUDYR', 'SOLA_PNL', 'IRA_', 'OTHSTYR_']\n"
     ]
    }
   ],
   "source": [
    "fml_cols_remove = list(set(fmli172_df.columns) - set(fmli171x_df.columns))\n",
    "print(fml_cols_remove)"
   ]
  },
  {
   "cell_type": "code",
   "execution_count": 20,
   "metadata": {},
   "outputs": [
    {
     "name": "stdout",
     "output_type": "stream",
     "text": [
      "set()\n",
      "set()\n",
      "set()\n"
     ]
    }
   ],
   "source": [
    "#remove the 6 columns from all member dataframe\n",
    "fmli172_df = fmli172_df.drop(columns=fml_cols_remove)\n",
    "fmli173_df = fmli173_df.drop(columns=fml_cols_remove)\n",
    "fmli174_df = fmli174_df.drop(columns=fml_cols_remove)\n",
    "print(set(fmli172_df.columns) - set(fmli171x_df.columns))\n",
    "print(set(fmli173_df.columns) - set(fmli171x_df.columns))\n",
    "print(set(fmli174_df.columns) - set(fmli171x_df.columns))"
   ]
  },
  {
   "cell_type": "code",
   "execution_count": 21,
   "metadata": {},
   "outputs": [
    {
     "name": "stdout",
     "output_type": "stream",
     "text": [
      "(24479, 808)\n"
     ]
    }
   ],
   "source": [
    "fmli_full= pd.concat([fmli171x_df, fmli172_df, fmli173_df, fmli174_df])\n",
    "print(fmli_full.shape)"
   ]
  },
  {
   "cell_type": "code",
   "execution_count": 22,
   "metadata": {},
   "outputs": [],
   "source": [
    "def processMortgage(row):\n",
    "    total = 0\n",
    "    \n",
    "    if row.MRTINTCQ >0:\n",
    "        total +=row.MRTINTCQ\n",
    "    else:\n",
    "        total +=row.MRTINTPQ\n",
    "        \n",
    "    if row.RNTXRPCQ >0:\n",
    "        total +=row.RNTXRPCQ\n",
    "    else:\n",
    "        total +=row.RNTXRPPQ\n",
    "        \n",
    "    if row.PROPTXCQ >0:\n",
    "        total +=row.PROPTXCQ\n",
    "    else:\n",
    "        total +=row.PROPTXPQ\n",
    "   \n",
    "    return total*4\n",
    "\n",
    "fmli_full['Mortgage_Rent_Property_Tax'] = fmli_full.apply(processMortgage, axis=1)"
   ]
  },
  {
   "cell_type": "code",
   "execution_count": 23,
   "metadata": {},
   "outputs": [
    {
     "data": {
      "text/html": [
       "<div>\n",
       "<style scoped>\n",
       "    .dataframe tbody tr th:only-of-type {\n",
       "        vertical-align: middle;\n",
       "    }\n",
       "\n",
       "    .dataframe tbody tr th {\n",
       "        vertical-align: top;\n",
       "    }\n",
       "\n",
       "    .dataframe thead th {\n",
       "        text-align: right;\n",
       "    }\n",
       "</style>\n",
       "<table border=\"1\" class=\"dataframe\">\n",
       "  <thead>\n",
       "    <tr style=\"text-align: right;\">\n",
       "      <th></th>\n",
       "      <th>NEWID</th>\n",
       "      <th>MRTINTCQ</th>\n",
       "      <th>MRTINTPQ</th>\n",
       "      <th>RNTXRPCQ</th>\n",
       "      <th>RNTXRPPQ</th>\n",
       "      <th>PROPTXCQ</th>\n",
       "      <th>PROPTXPQ</th>\n",
       "      <th>Mortgage_Rent_Property_Tax</th>\n",
       "    </tr>\n",
       "  </thead>\n",
       "  <tbody>\n",
       "    <tr>\n",
       "      <th>0</th>\n",
       "      <td>3386764</td>\n",
       "      <td>0.0</td>\n",
       "      <td>0.0</td>\n",
       "      <td>0.0</td>\n",
       "      <td>1510.0</td>\n",
       "      <td>0.0</td>\n",
       "      <td>0.0</td>\n",
       "      <td>6040.0</td>\n",
       "    </tr>\n",
       "    <tr>\n",
       "      <th>1</th>\n",
       "      <td>3386774</td>\n",
       "      <td>0.0</td>\n",
       "      <td>0.0</td>\n",
       "      <td>0.0</td>\n",
       "      <td>1689.0</td>\n",
       "      <td>0.0</td>\n",
       "      <td>0.0</td>\n",
       "      <td>6756.0</td>\n",
       "    </tr>\n",
       "    <tr>\n",
       "      <th>2</th>\n",
       "      <td>3386804</td>\n",
       "      <td>0.0</td>\n",
       "      <td>0.0</td>\n",
       "      <td>0.0</td>\n",
       "      <td>3300.0</td>\n",
       "      <td>0.0</td>\n",
       "      <td>0.0</td>\n",
       "      <td>13200.0</td>\n",
       "    </tr>\n",
       "    <tr>\n",
       "      <th>3</th>\n",
       "      <td>3386874</td>\n",
       "      <td>0.0</td>\n",
       "      <td>6717.0</td>\n",
       "      <td>0.0</td>\n",
       "      <td>0.0</td>\n",
       "      <td>0.0</td>\n",
       "      <td>350.0</td>\n",
       "      <td>28268.0</td>\n",
       "    </tr>\n",
       "    <tr>\n",
       "      <th>4</th>\n",
       "      <td>3386884</td>\n",
       "      <td>0.0</td>\n",
       "      <td>394.0</td>\n",
       "      <td>0.0</td>\n",
       "      <td>0.0</td>\n",
       "      <td>0.0</td>\n",
       "      <td>750.0</td>\n",
       "      <td>4576.0</td>\n",
       "    </tr>\n",
       "  </tbody>\n",
       "</table>\n",
       "</div>"
      ],
      "text/plain": [
       "     NEWID  MRTINTCQ  MRTINTPQ  RNTXRPCQ  RNTXRPPQ  PROPTXCQ  PROPTXPQ  \\\n",
       "0  3386764       0.0       0.0       0.0    1510.0       0.0       0.0   \n",
       "1  3386774       0.0       0.0       0.0    1689.0       0.0       0.0   \n",
       "2  3386804       0.0       0.0       0.0    3300.0       0.0       0.0   \n",
       "3  3386874       0.0    6717.0       0.0       0.0       0.0     350.0   \n",
       "4  3386884       0.0     394.0       0.0       0.0       0.0     750.0   \n",
       "\n",
       "   Mortgage_Rent_Property_Tax  \n",
       "0                      6040.0  \n",
       "1                      6756.0  \n",
       "2                     13200.0  \n",
       "3                     28268.0  \n",
       "4                      4576.0  "
      ]
     },
     "execution_count": 23,
     "metadata": {},
     "output_type": "execute_result"
    }
   ],
   "source": [
    "fmli_mortgage = fmli_full[['NEWID', 'MRTINTCQ', 'MRTINTPQ', 'RNTXRPCQ', 'RNTXRPPQ', 'PROPTXCQ', 'PROPTXPQ', 'Mortgage_Rent_Property_Tax']]\n",
    "fmli_mortgage.head(5)"
   ]
  },
  {
   "cell_type": "code",
   "execution_count": 24,
   "metadata": {},
   "outputs": [],
   "source": [
    "def processHouseholdFurnishing(row):\n",
    "    if row.HOUSEQCQ >0:\n",
    "        return row.HOUSEQCQ*4\n",
    "    else:\n",
    "        return row.HOUSEQPQ*4\n",
    "    \n",
    "fmli_full['Household_Furnishings_Equipment'] = fmli_full.apply(processHouseholdFurnishing, axis=1)\n",
    "\n",
    "def processHouseholdOps(row):\n",
    "    if row.HOUSOPCQ >0:\n",
    "        return row.HOUSOPCQ*4\n",
    "    else:\n",
    "        return row.HOUSOPPQ*4\n",
    "    \n",
    "fmli_full['Household_Operations'] = fmli_full.apply(processHouseholdOps, axis=1)\n",
    "\n",
    "\n",
    "def processUtilities(row):\n",
    "    if row.UTILCQ >0:\n",
    "        return row.UTILCQ*4\n",
    "    else:\n",
    "        return row.UTILPQ*4\n",
    "    \n",
    "fmli_full['Utilities'] = fmli_full.apply(processUtilities, axis=1)\n"
   ]
  },
  {
   "cell_type": "code",
   "execution_count": 25,
   "metadata": {},
   "outputs": [],
   "source": [
    "def processVehiclePurchases(row):\n",
    "    total = 0\n",
    "    \n",
    "    if row.CARTKNCQ >0:\n",
    "        total +=row.CARTKNCQ\n",
    "    else:\n",
    "        total +=row.CARTKNPQ\n",
    "        \n",
    "    if row.CARTKUCQ >0:\n",
    "        total +=row.CARTKUCQ\n",
    "    else:\n",
    "        total +=row.CARTKUPQ\n",
    "        \n",
    "    if row.OTHVEHCQ >0:\n",
    "        total +=row.OTHVEHCQ\n",
    "    else:\n",
    "        total +=row.OTHVEHPQ\n",
    "   \n",
    "    return total*4\n",
    "\n",
    "fmli_full['Vehicle_Purchases'] = fmli_full.apply(processVehiclePurchases, axis=1)\n",
    "        "
   ]
  },
  {
   "cell_type": "code",
   "execution_count": 26,
   "metadata": {},
   "outputs": [],
   "source": [
    " def processGas(row):\n",
    "    if row.GASMOCQ >0:\n",
    "        return row.GASMOCQ*4\n",
    "    else:\n",
    "        return row.GASMOPQ*4\n",
    "    \n",
    "fmli_full['Gasoline_Other_fuels_motor_oil'] = fmli_full.apply(processGas, axis=1)\n",
    "\n",
    "def processVehicleExpenses(row):\n",
    "    total = 0\n",
    "    \n",
    "    if row.VEHFINCQ >0:\n",
    "        total +=row.VEHFINCQ\n",
    "    else:\n",
    "        total +=row.VEHFINPQ\n",
    "        \n",
    "    if row.MAINRPCQ >0:\n",
    "        total +=row.MAINRPCQ\n",
    "    else:\n",
    "        total +=row.MAINRPPQ\n",
    "        \n",
    "    if row.VEHINSCQ >0:\n",
    "        total +=row.VEHINSCQ\n",
    "    else:\n",
    "        total +=row.VEHINSPQ\n",
    "\n",
    "    if row.VRNTLOCQ >0:\n",
    "        total +=row.VRNTLOCQ\n",
    "    else:\n",
    "        total +=row.VRNTLOPQ\n",
    "   \n",
    "    return total*4\n",
    "\n",
    "fmli_full['Other_vehicle_expenses'] = fmli_full.apply(processVehicleExpenses, axis=1)\n"
   ]
  },
  {
   "cell_type": "code",
   "execution_count": 27,
   "metadata": {},
   "outputs": [],
   "source": [
    "def processPublicTransportation(row):\n",
    "    if row.PUBTRACQ >0:\n",
    "        return row.PUBTRACQ*4\n",
    "    else:\n",
    "        return row.PUBTRAPQ*4\n",
    "    \n",
    "fmli_full['Public_other_transportation'] = fmli_full.apply(processPublicTransportation, axis=1)\n",
    "\n",
    "def processHealthInsurance(row):\n",
    "    if row.HLTHINCQ >0:\n",
    "        return row.HLTHINCQ*4\n",
    "    else:\n",
    "        return row.HLTHINPQ*4\n",
    "    \n",
    "fmli_full['Health_Insurance'] = fmli_full.apply(processHealthInsurance, axis=1)\n",
    "\n",
    "def processMedicalServices(row):\n",
    "    if row.MEDSRVCQ >0:\n",
    "        return row.MEDSRVCQ*4\n",
    "    else:\n",
    "        return row.MEDSRVPQ*4\n",
    "    \n",
    "fmli_full['Medical_Services'] = fmli_full.apply(processMedicalServices, axis=1)\n",
    "\n",
    "def processPersonalInsurance(row):\n",
    "    if row.LIFINSCQ >0:\n",
    "        return row.LIFINSCQ*4\n",
    "    else:\n",
    "        return row.LIFINSPQ*4\n",
    "fmli_full['Personal_Insurance'] = fmli_full.apply(processPersonalInsurance, axis=1)\n",
    "\n",
    "    \n",
    "def processMedicalSupplies(row):\n",
    "    if row.MEDSUPCQ >0:\n",
    "        return row.MEDSUPCQ*4\n",
    "    else:\n",
    "        return row.MEDSUPPQ*4\n",
    "fmli_full['Medical_Supplies'] = fmli_full.apply(processMedicalSupplies, axis=1)\n",
    "\n",
    "def processPrescriptionDrugs(row):\n",
    "    if row.PREDRGCQ >0:\n",
    "        return row.PREDRGCQ*4\n",
    "    else:\n",
    "        return row.PREDRGPQ*4\n",
    "fmli_full['Prescription_Drugs'] = fmli_full.apply(processPrescriptionDrugs, axis=1)\n",
    "            \n",
    "def processPensionSS(row):\n",
    "    if row.RETPENCQ >0:\n",
    "        return row.RETPENCQ*4\n",
    "    else:\n",
    "        return row.RETPENPQ*4\n",
    "    \n",
    "fmli_full['Pensions_and_Social_Security'] = fmli_full.apply(processPensionSS, axis=1)\n",
    "\n",
    "def processFoodAtHome(row):\n",
    "    if row.FDHOMECQ >0:\n",
    "        return row.FDHOMECQ*4\n",
    "    else:\n",
    "        return row.FDHOMEPQ*4\n",
    "    \n",
    "fmli_full['Food_At_Home'] = fmli_full.apply(processFoodAtHome, axis=1)\n",
    "\n",
    "def processFoodAwayFromHome(row):\n",
    "    if row.FDAWAYCQ >0:\n",
    "        return row.FDAWAYCQ*4\n",
    "    else:\n",
    "        return row.FDAWAYPQ*4\n",
    "    \n",
    "fmli_full['Food_Away_From_Home'] = fmli_full.apply(processFoodAwayFromHome, axis=1)\n",
    "\n",
    "           \n",
    "            "
   ]
  },
  {
   "cell_type": "code",
   "execution_count": 28,
   "metadata": {},
   "outputs": [],
   "source": [
    "def processApparelServices(row):\n",
    "    if row.APPARCQ >0:\n",
    "        return row.APPARCQ*4\n",
    "    else:\n",
    "        return row.APPARPQ*4\n",
    "    \n",
    "fmli_full['Apparel_and_services'] = fmli_full.apply(processApparelServices, axis=1)        \n",
    "\n",
    "\n",
    "def processPersonalCare(row):\n",
    "    if row.PERSCACQ >0:\n",
    "        return row.PERSCACQ*4\n",
    "    else:\n",
    "        return row.PERSCAPQ*4\n",
    "    \n",
    "fmli_full['Personal_Care'] = fmli_full.apply(processPersonalCare, axis=1)        \n",
    "            \n",
    "def processEducation(row):\n",
    "    if row.EDUCACQ >0:\n",
    "        return row.EDUCACQ*4\n",
    "    else:\n",
    "        return row.EDUCAPQ*4\n",
    "    \n",
    "fmli_full['Education'] = fmli_full.apply(processEducation, axis=1)            \n",
    "            \n",
    "def processCashContributions(row):\n",
    "    if row.CASHCOCQ >0:\n",
    "        return row.CASHCOCQ*4\n",
    "    else:\n",
    "        return row.CASHCOPQ*4\n",
    "    \n",
    "fmli_full['Cash_Contributions'] = fmli_full.apply(processCashContributions, axis=1)\n",
    "            \n",
    "            \n",
    "            \n",
    "def processMiscellaneous(row):\n",
    "    if row.MISCCQ >0:\n",
    "        return row.MISCCQ*4\n",
    "    else:\n",
    "        return row.MISCPQ*4\n",
    "    \n",
    "fmli_full['Miscellaneous'] = fmli_full.apply(processMiscellaneous, axis=1)\n",
    "            \n",
    "def processEntertainment(row):\n",
    "    if row.ENTERTCQ >0:\n",
    "        return row.ENTERTCQ*4\n",
    "    else:\n",
    "        return row.ENTERTPQ*4\n",
    "    \n",
    "fmli_full['Entertainment'] = fmli_full.apply(processEntertainment, axis=1)\n",
    "\n",
    "            \n",
    "def processTravel(row):\n",
    "    if row.TTOTALC >0:\n",
    "        return row.TTOTALC*4\n",
    "    else:\n",
    "        return row.TTOTALP*4\n",
    "    \n",
    "fmli_full['Travel'] = fmli_full.apply(processTravel, axis=1)\n",
    "            "
   ]
  },
  {
   "cell_type": "code",
   "execution_count": 53,
   "metadata": {},
   "outputs": [],
   "source": [
    "def column_fillna(colname):\n",
    "    null_records = fmli_full[fmli_full[colname].isnull()].shape\n",
    "    notnull_records = fmli_full[~fmli_full[colname].isnull()].shape\n",
    "    fmli_full[colname] = fmli_full[colname].fillna(0)\n",
    "\n",
    "    #verify fillna with 0,\n",
    "    zero_records = fmli_full[fmli_full[colname]==0].shape\n",
    "    nonzero_records = fmli_full[fmli_full[colname]!=0].shape\n",
    "    #print(null_records)\n",
    "    #print(notnull_records)\n",
    "    #print(zero_records)\n",
    "    #print(nonzero_records)\n",
    "    \n",
    "    \n",
    "    if (null_records!=zero_records) or (notnull_records!=nonzero_records) :\n",
    "        print(\"fillna failed\")"
   ]
  },
  {
   "cell_type": "code",
   "execution_count": 45,
   "metadata": {},
   "outputs": [
    {
     "name": "stdout",
     "output_type": "stream",
     "text": [
      "(23461, 831)\n",
      "(1018, 831)\n",
      "(23461, 831)\n",
      "(1018, 831)\n"
     ]
    }
   ],
   "source": [
    "column_fillna('INTRDVX')\n",
    "column_fillna('INTRDVBX')"
   ]
  },
  {
   "cell_type": "code",
   "execution_count": null,
   "metadata": {},
   "outputs": [],
   "source": [
    "column_fillna('ROYESTX')\n",
    "column_fillna('ROYESTBX')\n",
    "column_fillna('OTHREGX')\n",
    "column_fillna('OTHREGBX')\n",
    "column_fillna('WELFAREX')\n",
    "column_fillna('WELFREBX')\n",
    "column_fillna('RETSURVX')\n",
    "column_fillna('RETSRVBX')\n",
    "column_fillna('NETRENTX')\n",
    "column_fillna('NETRNTBX')\n",
    "column_fillna('OTHRINCX')\n",
    "     "
   ]
  },
  {
   "cell_type": "code",
   "execution_count": 54,
   "metadata": {},
   "outputs": [],
   "source": [
    "col_HHTotalIncome=['INTRDVX', 'INTRDVBX', 'ROYESTX', 'ROYESTBX', 'OTHREGX', 'OTHREGBX',  'WELFAREX', 'WELFREBX', \n",
    "'RETSURVX', 'RETSRVBX', 'NETRENTX', 'NETRNTBX', 'OTHRINCX']\n",
    "\n",
    "fmli_full['FMLI_HH_Total_Income'] = 0\n",
    "for col in col_HHTotalIncome:\n",
    "    fmli_full['FMLI_HH_Total_Income'] += fmli_full[col] \n"
   ]
  },
  {
   "cell_type": "code",
   "execution_count": 55,
   "metadata": {},
   "outputs": [
    {
     "data": {
      "text/plain": [
       "0        0.0\n",
       "1        1.0\n",
       "2        0.0\n",
       "3      450.0\n",
       "4      228.0\n",
       "5        0.0\n",
       "6        0.0\n",
       "7        0.0\n",
       "8    13200.0\n",
       "9    15600.0\n",
       "Name: FMLI_HH_Total_Income, dtype: float64"
      ]
     },
     "execution_count": 55,
     "metadata": {},
     "output_type": "execute_result"
    }
   ],
   "source": [
    " fmli_full['FMLI_HH_Total_Income'][:10]"
   ]
  },
  {
   "cell_type": "code",
   "execution_count": 56,
   "metadata": {},
   "outputs": [],
   "source": [
    "fmli_cols=['NEWID', 'FMLI_HH_Total_Income',  'Mortgage_Rent_Property_Tax','Household_Furnishings_Equipment',\n",
    "            'Household_Operations','Utilities','Vehicle_Purchases','Gasoline_Other_fuels_motor_oil','Other_vehicle_expenses',\n",
    "            'Public_other_transportation','Health_Insurance','Medical_Services','Prescription_Drugs','Medical_Supplies',     \n",
    "            'Personal_Insurance','Pensions_and_Social_Security','Food_At_Home','Food_Away_From_Home','Apparel_and_services',\n",
    "            'Personal_Care','Education','Cash_Contributions','Miscellaneous','Entertainment','Travel']\n",
    "fmli_cleaned = fmli_full[fmli_cols]"
   ]
  },
  {
   "cell_type": "code",
   "execution_count": 64,
   "metadata": {},
   "outputs": [],
   "source": [
    "fmli_multi= fmli_full.groupby('NEWID').filter(lambda group: len(group) > 1)\n",
    "memi_multi= memi_full.groupby('NEWID').filter(lambda group: len(group) > 1)"
   ]
  },
  {
   "cell_type": "code",
   "execution_count": 90,
   "metadata": {},
   "outputs": [
    {
     "data": {
      "text/html": [
       "<div>\n",
       "<style scoped>\n",
       "    .dataframe tbody tr th:only-of-type {\n",
       "        vertical-align: middle;\n",
       "    }\n",
       "\n",
       "    .dataframe tbody tr th {\n",
       "        vertical-align: top;\n",
       "    }\n",
       "\n",
       "    .dataframe thead th {\n",
       "        text-align: right;\n",
       "    }\n",
       "</style>\n",
       "<table border=\"1\" class=\"dataframe\">\n",
       "  <thead>\n",
       "    <tr style=\"text-align: right;\">\n",
       "      <th></th>\n",
       "      <th>Total_Income</th>\n",
       "    </tr>\n",
       "    <tr>\n",
       "      <th>NEWID</th>\n",
       "      <th></th>\n",
       "    </tr>\n",
       "  </thead>\n",
       "  <tbody>\n",
       "    <tr>\n",
       "      <th>3386764</th>\n",
       "      <td>0.0</td>\n",
       "    </tr>\n",
       "    <tr>\n",
       "      <th>3386774</th>\n",
       "      <td>27916.0</td>\n",
       "    </tr>\n",
       "    <tr>\n",
       "      <th>3386804</th>\n",
       "      <td>65000.0</td>\n",
       "    </tr>\n",
       "    <tr>\n",
       "      <th>3386874</th>\n",
       "      <td>0.0</td>\n",
       "    </tr>\n",
       "    <tr>\n",
       "      <th>3386884</th>\n",
       "      <td>30768.0</td>\n",
       "    </tr>\n",
       "  </tbody>\n",
       "</table>\n",
       "</div>"
      ],
      "text/plain": [
       "         Total_Income\n",
       "NEWID                \n",
       "3386764           0.0\n",
       "3386774       27916.0\n",
       "3386804       65000.0\n",
       "3386874           0.0\n",
       "3386884       30768.0"
      ]
     },
     "execution_count": 90,
     "metadata": {},
     "output_type": "execute_result"
    }
   ],
   "source": [
    "memi_sum['Total_Income'] = memi_sum['SALARYX'] + memi_sum['SEMPFRMX']+ memi_sum['SOCRRX']+ memi_sum['SSIX']\n",
    "memi_sum = memi_sum[['Total_Income']] \n",
    "memi_sum.head(5)"
   ]
  },
  {
   "cell_type": "code",
   "execution_count": 91,
   "metadata": {},
   "outputs": [],
   "source": [
    "fmli_memi = fmli_cleaned.join(memi_sum, how='inner', on='NEWID', rsuffix='_other')\n",
    "print(fmli_memi.shape)"
   ]
  },
  {
   "cell_type": "code",
   "execution_count": 94,
   "metadata": {},
   "outputs": [
    {
     "data": {
      "text/html": [
       "<div>\n",
       "<style scoped>\n",
       "    .dataframe tbody tr th:only-of-type {\n",
       "        vertical-align: middle;\n",
       "    }\n",
       "\n",
       "    .dataframe tbody tr th {\n",
       "        vertical-align: top;\n",
       "    }\n",
       "\n",
       "    .dataframe thead th {\n",
       "        text-align: right;\n",
       "    }\n",
       "</style>\n",
       "<table border=\"1\" class=\"dataframe\">\n",
       "  <thead>\n",
       "    <tr style=\"text-align: right;\">\n",
       "      <th></th>\n",
       "      <th>NEWID</th>\n",
       "      <th>FMLI_HH_Total_Income</th>\n",
       "      <th>Mortgage_Rent_Property_Tax</th>\n",
       "      <th>Household_Furnishings_Equipment</th>\n",
       "      <th>Household_Operations</th>\n",
       "      <th>Utilities</th>\n",
       "      <th>Vehicle_Purchases</th>\n",
       "      <th>Gasoline_Other_fuels_motor_oil</th>\n",
       "      <th>Other_vehicle_expenses</th>\n",
       "      <th>Public_other_transportation</th>\n",
       "      <th>...</th>\n",
       "      <th>Food_Away_From_Home</th>\n",
       "      <th>Apparel_and_services</th>\n",
       "      <th>Personal_Care</th>\n",
       "      <th>Education</th>\n",
       "      <th>Cash_Contributions</th>\n",
       "      <th>Miscellaneous</th>\n",
       "      <th>Entertainment</th>\n",
       "      <th>Travel</th>\n",
       "      <th>Total_Income</th>\n",
       "      <th>HH_Total_Income</th>\n",
       "    </tr>\n",
       "  </thead>\n",
       "  <tbody>\n",
       "    <tr>\n",
       "      <th>0</th>\n",
       "      <td>3386764</td>\n",
       "      <td>0.0</td>\n",
       "      <td>6040.0</td>\n",
       "      <td>560.0</td>\n",
       "      <td>684.0</td>\n",
       "      <td>5324.0</td>\n",
       "      <td>0.0</td>\n",
       "      <td>1980.0</td>\n",
       "      <td>11600.0</td>\n",
       "      <td>0.0</td>\n",
       "      <td>...</td>\n",
       "      <td>200.0</td>\n",
       "      <td>680.0</td>\n",
       "      <td>240.0</td>\n",
       "      <td>15200.0</td>\n",
       "      <td>48772.0</td>\n",
       "      <td>0.0</td>\n",
       "      <td>900.0</td>\n",
       "      <td>1140.0</td>\n",
       "      <td>0.0</td>\n",
       "      <td>0.0</td>\n",
       "    </tr>\n",
       "    <tr>\n",
       "      <th>1</th>\n",
       "      <td>3386774</td>\n",
       "      <td>1.0</td>\n",
       "      <td>6756.0</td>\n",
       "      <td>60.0</td>\n",
       "      <td>732.0</td>\n",
       "      <td>1860.0</td>\n",
       "      <td>0.0</td>\n",
       "      <td>960.0</td>\n",
       "      <td>1824.0</td>\n",
       "      <td>0.0</td>\n",
       "      <td>...</td>\n",
       "      <td>520.0</td>\n",
       "      <td>368.0</td>\n",
       "      <td>200.0</td>\n",
       "      <td>0.0</td>\n",
       "      <td>1008.0</td>\n",
       "      <td>0.0</td>\n",
       "      <td>280.0</td>\n",
       "      <td>0.0</td>\n",
       "      <td>27916.0</td>\n",
       "      <td>27917.0</td>\n",
       "    </tr>\n",
       "  </tbody>\n",
       "</table>\n",
       "<p>2 rows × 27 columns</p>\n",
       "</div>"
      ],
      "text/plain": [
       "     NEWID  FMLI_HH_Total_Income  Mortgage_Rent_Property_Tax  \\\n",
       "0  3386764                   0.0                      6040.0   \n",
       "1  3386774                   1.0                      6756.0   \n",
       "\n",
       "   Household_Furnishings_Equipment  Household_Operations  Utilities  \\\n",
       "0                            560.0                 684.0     5324.0   \n",
       "1                             60.0                 732.0     1860.0   \n",
       "\n",
       "   Vehicle_Purchases  Gasoline_Other_fuels_motor_oil  Other_vehicle_expenses  \\\n",
       "0                0.0                          1980.0                 11600.0   \n",
       "1                0.0                           960.0                  1824.0   \n",
       "\n",
       "   Public_other_transportation  ...  Food_Away_From_Home  \\\n",
       "0                          0.0  ...                200.0   \n",
       "1                          0.0  ...                520.0   \n",
       "\n",
       "   Apparel_and_services  Personal_Care  Education  Cash_Contributions  \\\n",
       "0                 680.0          240.0    15200.0             48772.0   \n",
       "1                 368.0          200.0        0.0              1008.0   \n",
       "\n",
       "   Miscellaneous  Entertainment  Travel  Total_Income  HH_Total_Income  \n",
       "0            0.0          900.0  1140.0           0.0              0.0  \n",
       "1            0.0          280.0     0.0       27916.0          27917.0  \n",
       "\n",
       "[2 rows x 27 columns]"
      ]
     },
     "execution_count": 94,
     "metadata": {},
     "output_type": "execute_result"
    }
   ],
   "source": [
    "fmli_memi['HH_Total_Income'] = fmli_memi['Total_Income']+ fmli_memi['FMLI_HH_Total_Income']\n",
    "fmli_memi.head(2)"
   ]
  },
  {
   "cell_type": "code",
   "execution_count": 96,
   "metadata": {},
   "outputs": [],
   "source": [
    "dependents=['Mortgage_Rent_Property_Tax','Household_Furnishings_Equipment',\n",
    "            'Household_Operations','Utilities','Vehicle_Purchases','Gasoline_Other_fuels_motor_oil','Other_vehicle_expenses',\n",
    "            'Public_other_transportation','Health_Insurance','Medical_Services','Prescription_Drugs','Medical_Supplies',     \n",
    "            'Personal_Insurance','Pensions_and_Social_Security','Food_At_Home','Food_Away_From_Home','Apparel_and_services',\n",
    "            'Personal_Care','Education','Cash_Contributions','Miscellaneous','Entertainment','Travel']\n"
   ]
  },
  {
   "cell_type": "code",
   "execution_count": 103,
   "metadata": {},
   "outputs": [
    {
     "name": "stdout",
     "output_type": "stream",
     "text": [
      "1\n",
      "0.02536326826704981\n",
      "5025.920455995596\n",
      "1\n",
      "0.00706829579359163\n",
      "922.3501117990429\n",
      "[[0.02536326826704981, 5025.920455995596], [0.00706829579359163, 922.3501117990429]]\n"
     ]
    }
   ],
   "source": [
    "dependents=['Mortgage_Rent_Property_Tax', 'Household_Furnishings_Equipment']\n",
    "X=pd.DataFrame(fmli_memi['HH_Total_Income'])\n",
    "\n",
    "results=[]\n",
    "for dependent in dependents:\n",
    "    y=fmli_memi[dependent]\n",
    "    model = linear_model.LinearRegression().fit(X, y)\n",
    "    print(len(model.coef_))\n",
    "    print(model.coef_[0])\n",
    "    print(model.intercept_)\n",
    "    results.append([model.coef_[0], model.intercept_])\n",
    "\n",
    "print(results)\n"
   ]
  },
  {
   "cell_type": "code",
   "execution_count": null,
   "metadata": {},
   "outputs": [],
   "source": []
  }
 ],
 "metadata": {
  "kernelspec": {
   "display_name": "Python 3",
   "language": "python",
   "name": "python3"
  },
  "language_info": {
   "codemirror_mode": {
    "name": "ipython",
    "version": 3
   },
   "file_extension": ".py",
   "mimetype": "text/x-python",
   "name": "python",
   "nbconvert_exporter": "python",
   "pygments_lexer": "ipython3",
   "version": "3.7.3"
  }
 },
 "nbformat": 4,
 "nbformat_minor": 2
}
